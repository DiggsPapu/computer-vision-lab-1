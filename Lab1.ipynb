{
 "cells": [
  {
   "cell_type": "markdown",
   "id": "1d58f343-d008-4361-97ec-93ec2e3bacfb",
   "metadata": {},
   "source": [
    "# Visión por Computadora 2025\n",
    "#           Lab 1\n",
    "### Juan Luis Solórzano carnet: 201598"
   ]
  },
  {
   "cell_type": "code",
   "execution_count": 4,
   "id": "67793651-cfcc-43c3-8c33-56495d62e61a",
   "metadata": {},
   "outputs": [],
   "source": [
    "import numpy as np\n",
    "\n",
    "import matplotlib.pyplot as plt\n",
    "import skimage as ski\n",
    "from PIL import Image"
   ]
  },
  {
   "cell_type": "markdown",
   "id": "9c5ed946-bcd4-4fdc-8f85-268796933e8f",
   "metadata": {},
   "source": [
    "\n",
    "### 1. Ecualización de histograma\n",
    "\n",
    "Implementar en Python una función que haga la ecualización de histograma para una imagen en escala de grises (8 bits). \n",
    "\n",
    "- Mostrar la imagen original y la imagen ecualizada.\n",
    "- Mostrar también los histogramas normalizados y su distribución acumulada de ambas imágenes.\n",
    "- Comparar los resultados de su función contra alguna función ya predefinida en Python (por ejemplo, `skimage.exposure.equalize_hist` o `cv2.equalizeHist`).\n",
    "- Explicar las diferencias o similitudes entre ambas implementaciones.\n",
    "\n",
    "\n"
   ]
  },
  {
   "cell_type": "markdown",
   "id": "a77d5120-74fb-4948-b93d-a759895b3626",
   "metadata": {},
   "source": [
    "### 2. Segmentación binaria de imágenes\n",
    "\n",
    "Implementar 3 algoritmos para segmentación binaria de imágenes. Uno de estos debe ser un algoritmo local.\n",
    "\n",
    "- Aplicar cada algoritmo a al menos 3 imágenes en escala de grises.\n",
    "- Comparar los resultados obtenidos visualmente.\n",
    "- Concluir cuál de los algoritmos obtiene mejores resultados.\n",
    "\n"
   ]
  },
  {
   "cell_type": "markdown",
   "id": "97dc2a2b-b7c4-43fd-a7cf-1db1a7acb2fe",
   "metadata": {},
   "source": [
    "### 3. Segmentación en imágenes RGB con k-medias\n",
    "\n",
    "Implementar un algoritmo de segmentación para imágenes RGB utilizando el algoritmo de k-medias.\n",
    "\n",
    "- Permitir al usuario elegir el parámetro k (k ≥ 2).\n",
    "- Mostrar ejemplos de segmentación con:\n",
    "  - Imagen original.\n",
    "  - Mapa de segmentos o clases.\n",
    "  - Imagen cuantizada (promedio de color en cada segmento).\n",
    "- Presentar al menos dos ejemplos buenos y dos malos, explicando sus alcances y limitaciones.\n",
    "\n"
   ]
  },
  {
   "cell_type": "markdown",
   "id": "4bc4cdc2-e8c4-4355-8d71-f5239ba14e15",
   "metadata": {},
   "source": [
    "### 4. Análisis de cromaticidad\n",
    "\n",
    "- Convertir las imágenes `coca-cola.jpeg` y `pepsi.png` de RGB a un espacio de color cromático adecuado.\n",
    "- Elaborar el histograma del canal de cromaticidad.\n",
    "- Analizar el histograma y concluir qué ocurre con los colores en cada imagen.\n",
    "\n"
   ]
  },
  {
   "cell_type": "markdown",
   "id": "0b7688c6-656f-444d-97d0-3ab56372541b",
   "metadata": {},
   "source": [
    "### 5. Segmentación binaria de granos de arroz\n",
    "\n",
    "- Implementar un algoritmo que identifique correctamente todos los granos de arroz en la imagen `rice.png`.\n",
    "- No se puede aplicar un método local.\n",
    "\n"
   ]
  },
  {
   "cell_type": "markdown",
   "id": "59b7b858-1d1a-4d37-b6c3-3ddc4bddb655",
   "metadata": {},
   "source": [
    "### 6. Detección de color en tiempo real\n",
    "\n",
    "- Implementar un detector de color amarillo (`YELLOW`) en tiempo real usando OpenCV.\n",
    "- Capturar imágenes directamente de la cámara de la PC.\n",
    "- Mostrar el resultado de la detección en tiempo real en pantalla.\n",
    "- Se puede diseñar el detector para detectar otros colores diferentes.\n",
    "- Incluir capturas de pantalla con ejemplos de su funcionamiento.\n",
    "\n"
   ]
  },
  {
   "cell_type": "code",
   "execution_count": null,
   "id": "f96bc005-ef5b-41bd-bbda-0592a264fb83",
   "metadata": {},
   "outputs": [],
   "source": []
  }
 ],
 "metadata": {
  "kernelspec": {
   "display_name": "Python 3 (ipykernel)",
   "language": "python",
   "name": "python3"
  },
  "language_info": {
   "codemirror_mode": {
    "name": "ipython",
    "version": 3
   },
   "file_extension": ".py",
   "mimetype": "text/x-python",
   "name": "python",
   "nbconvert_exporter": "python",
   "pygments_lexer": "ipython3",
   "version": "3.9.6"
  }
 },
 "nbformat": 4,
 "nbformat_minor": 5
}
